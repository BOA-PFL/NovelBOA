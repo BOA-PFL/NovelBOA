{
 "cells": [
  {
   "cell_type": "code",
   "execution_count": null,
   "metadata": {},
   "outputs": [],
   "source": [
    "import pandas as pd\n",
    "import numpy as np\n",
    "import matplotlib.pyplot as plt\n",
    "import os\n",
    "import ctypes  \n",
    "\n",
    "%matplotlib inline\n",
    "# Read in files\n",
    "# only read .asc files for this work\n",
    "fPath = 'C:/Users/Daniel.Feeney/Dropbox (Boa)/Snow Protocol/SnowboardProtocol/'\n",
    "entries = os.listdir(fPath)\n",
    "fName = entries[0]\n",
    "dat = pd.read_csv(fPath+fName,sep='         ', skiprows = 3, header = 0, index_col = False)\n",
    "#dat.columns = ['Time', 'LeftHeel', 'LeftMedial','LeftLateral','Total']\n",
    "dat.columns = ['Time', 'LHeel', 'LMedial','LLateral','LTotal', 'Time2', 'RLateral','RMedial','RHeel','RTotal']\n",
    "dat['LToes'] = dat.LMedial + dat.LLateral\n",
    "dat['RToes'] = dat.RMedial + dat.RLateral\n",
    "\n",
    "\n",
    "plt.plot(dat.LTotal)\n",
    "plt.plot(dat.RTotal)\n",
    "plt.legend()\n",
    "print('Select start and end of analysis trial')\n",
    "pts = np.asarray(plt.ginput(2, timeout=-1))"
   ]
  },
  {
   "cell_type": "code",
   "execution_count": null,
   "metadata": {},
   "outputs": [],
   "source": []
  }
 ],
 "metadata": {
  "kernelspec": {
   "display_name": "Python 3",
   "language": "python",
   "name": "python3"
  },
  "language_info": {
   "codemirror_mode": {
    "name": "ipython",
    "version": 3
   },
   "file_extension": ".py",
   "mimetype": "text/x-python",
   "name": "python",
   "nbconvert_exporter": "python",
   "pygments_lexer": "ipython3",
   "version": "3.6.5"
  }
 },
 "nbformat": 4,
 "nbformat_minor": 2
}
